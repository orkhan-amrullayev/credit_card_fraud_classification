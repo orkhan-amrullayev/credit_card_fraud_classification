{
  "nbformat": 4,
  "nbformat_minor": 0,
  "metadata": {
    "colab": {
      "name": "Credit_Card_Fraud_Class_v2.1.ipynb",
      "provenance": [],
      "collapsed_sections": []
    },
    "kernelspec": {
      "name": "python3",
      "display_name": "Python 3"
    },
    "language_info": {
      "name": "python"
    }
  },
  "cells": [
    {
      "cell_type": "code",
      "metadata": {
        "id": "ResZBsCmvlXj"
      },
      "source": [
        "import pandas as pd\n",
        "import numpy as np\n",
        "\n",
        "import matplotlib.pyplot as plt\n",
        "import seaborn as sns\n",
        "\n",
        "from sklearn.model_selection import train_test_split\n",
        "from sklearn.preprocessing import StandardScaler\n",
        "from sklearn.tree import DecisionTreeClassifier\n",
        "from sklearn.ensemble import RandomForestClassifier\n",
        "from sklearn.linear_model import LogisticRegression\n",
        "from sklearn.neighbors import KNeighborsClassifier\n",
        "\n",
        "from sklearn.metrics import confusion_matrix, accuracy_score, f1_score, classification_report\n",
        "\n",
        "import warnings\n",
        "warnings.filterwarnings('ignore')"
      ],
      "execution_count": 3,
      "outputs": []
    },
    {
      "cell_type": "code",
      "metadata": {
        "id": "wjO2wpQLv3MR"
      },
      "source": [
        "df = pd.read_csv('/content/credit_data.csv')"
      ],
      "execution_count": 52,
      "outputs": []
    },
    {
      "cell_type": "code",
      "metadata": {
        "colab": {
          "base_uri": "https://localhost:8080/",
          "height": 240
        },
        "id": "EDmhSErFv9fu",
        "outputId": "a5516625-5806-4d39-8d01-ed6c73cfb9f0"
      },
      "source": [
        "print(df.shape)\n",
        "df.head()"
      ],
      "execution_count": 53,
      "outputs": [
        {
          "output_type": "stream",
          "text": [
            "(284807, 31)\n"
          ],
          "name": "stdout"
        },
        {
          "output_type": "execute_result",
          "data": {
            "text/html": [
              "<div>\n",
              "<style scoped>\n",
              "    .dataframe tbody tr th:only-of-type {\n",
              "        vertical-align: middle;\n",
              "    }\n",
              "\n",
              "    .dataframe tbody tr th {\n",
              "        vertical-align: top;\n",
              "    }\n",
              "\n",
              "    .dataframe thead th {\n",
              "        text-align: right;\n",
              "    }\n",
              "</style>\n",
              "<table border=\"1\" class=\"dataframe\">\n",
              "  <thead>\n",
              "    <tr style=\"text-align: right;\">\n",
              "      <th></th>\n",
              "      <th>Time</th>\n",
              "      <th>V1</th>\n",
              "      <th>V2</th>\n",
              "      <th>V3</th>\n",
              "      <th>V4</th>\n",
              "      <th>V5</th>\n",
              "      <th>V6</th>\n",
              "      <th>V7</th>\n",
              "      <th>V8</th>\n",
              "      <th>V9</th>\n",
              "      <th>V10</th>\n",
              "      <th>V11</th>\n",
              "      <th>V12</th>\n",
              "      <th>V13</th>\n",
              "      <th>V14</th>\n",
              "      <th>V15</th>\n",
              "      <th>V16</th>\n",
              "      <th>V17</th>\n",
              "      <th>V18</th>\n",
              "      <th>V19</th>\n",
              "      <th>V20</th>\n",
              "      <th>V21</th>\n",
              "      <th>V22</th>\n",
              "      <th>V23</th>\n",
              "      <th>V24</th>\n",
              "      <th>V25</th>\n",
              "      <th>V26</th>\n",
              "      <th>V27</th>\n",
              "      <th>V28</th>\n",
              "      <th>Amount</th>\n",
              "      <th>Class</th>\n",
              "    </tr>\n",
              "  </thead>\n",
              "  <tbody>\n",
              "    <tr>\n",
              "      <th>0</th>\n",
              "      <td>0.0</td>\n",
              "      <td>-1.359807</td>\n",
              "      <td>-0.072781</td>\n",
              "      <td>2.536347</td>\n",
              "      <td>1.378155</td>\n",
              "      <td>-0.338321</td>\n",
              "      <td>0.462388</td>\n",
              "      <td>0.239599</td>\n",
              "      <td>0.098698</td>\n",
              "      <td>0.363787</td>\n",
              "      <td>0.090794</td>\n",
              "      <td>-0.551600</td>\n",
              "      <td>-0.617801</td>\n",
              "      <td>-0.991390</td>\n",
              "      <td>-0.311169</td>\n",
              "      <td>1.468177</td>\n",
              "      <td>-0.470401</td>\n",
              "      <td>0.207971</td>\n",
              "      <td>0.025791</td>\n",
              "      <td>0.403993</td>\n",
              "      <td>0.251412</td>\n",
              "      <td>-0.018307</td>\n",
              "      <td>0.277838</td>\n",
              "      <td>-0.110474</td>\n",
              "      <td>0.066928</td>\n",
              "      <td>0.128539</td>\n",
              "      <td>-0.189115</td>\n",
              "      <td>0.133558</td>\n",
              "      <td>-0.021053</td>\n",
              "      <td>149.62</td>\n",
              "      <td>0</td>\n",
              "    </tr>\n",
              "    <tr>\n",
              "      <th>1</th>\n",
              "      <td>0.0</td>\n",
              "      <td>1.191857</td>\n",
              "      <td>0.266151</td>\n",
              "      <td>0.166480</td>\n",
              "      <td>0.448154</td>\n",
              "      <td>0.060018</td>\n",
              "      <td>-0.082361</td>\n",
              "      <td>-0.078803</td>\n",
              "      <td>0.085102</td>\n",
              "      <td>-0.255425</td>\n",
              "      <td>-0.166974</td>\n",
              "      <td>1.612727</td>\n",
              "      <td>1.065235</td>\n",
              "      <td>0.489095</td>\n",
              "      <td>-0.143772</td>\n",
              "      <td>0.635558</td>\n",
              "      <td>0.463917</td>\n",
              "      <td>-0.114805</td>\n",
              "      <td>-0.183361</td>\n",
              "      <td>-0.145783</td>\n",
              "      <td>-0.069083</td>\n",
              "      <td>-0.225775</td>\n",
              "      <td>-0.638672</td>\n",
              "      <td>0.101288</td>\n",
              "      <td>-0.339846</td>\n",
              "      <td>0.167170</td>\n",
              "      <td>0.125895</td>\n",
              "      <td>-0.008983</td>\n",
              "      <td>0.014724</td>\n",
              "      <td>2.69</td>\n",
              "      <td>0</td>\n",
              "    </tr>\n",
              "    <tr>\n",
              "      <th>2</th>\n",
              "      <td>1.0</td>\n",
              "      <td>-1.358354</td>\n",
              "      <td>-1.340163</td>\n",
              "      <td>1.773209</td>\n",
              "      <td>0.379780</td>\n",
              "      <td>-0.503198</td>\n",
              "      <td>1.800499</td>\n",
              "      <td>0.791461</td>\n",
              "      <td>0.247676</td>\n",
              "      <td>-1.514654</td>\n",
              "      <td>0.207643</td>\n",
              "      <td>0.624501</td>\n",
              "      <td>0.066084</td>\n",
              "      <td>0.717293</td>\n",
              "      <td>-0.165946</td>\n",
              "      <td>2.345865</td>\n",
              "      <td>-2.890083</td>\n",
              "      <td>1.109969</td>\n",
              "      <td>-0.121359</td>\n",
              "      <td>-2.261857</td>\n",
              "      <td>0.524980</td>\n",
              "      <td>0.247998</td>\n",
              "      <td>0.771679</td>\n",
              "      <td>0.909412</td>\n",
              "      <td>-0.689281</td>\n",
              "      <td>-0.327642</td>\n",
              "      <td>-0.139097</td>\n",
              "      <td>-0.055353</td>\n",
              "      <td>-0.059752</td>\n",
              "      <td>378.66</td>\n",
              "      <td>0</td>\n",
              "    </tr>\n",
              "    <tr>\n",
              "      <th>3</th>\n",
              "      <td>1.0</td>\n",
              "      <td>-0.966272</td>\n",
              "      <td>-0.185226</td>\n",
              "      <td>1.792993</td>\n",
              "      <td>-0.863291</td>\n",
              "      <td>-0.010309</td>\n",
              "      <td>1.247203</td>\n",
              "      <td>0.237609</td>\n",
              "      <td>0.377436</td>\n",
              "      <td>-1.387024</td>\n",
              "      <td>-0.054952</td>\n",
              "      <td>-0.226487</td>\n",
              "      <td>0.178228</td>\n",
              "      <td>0.507757</td>\n",
              "      <td>-0.287924</td>\n",
              "      <td>-0.631418</td>\n",
              "      <td>-1.059647</td>\n",
              "      <td>-0.684093</td>\n",
              "      <td>1.965775</td>\n",
              "      <td>-1.232622</td>\n",
              "      <td>-0.208038</td>\n",
              "      <td>-0.108300</td>\n",
              "      <td>0.005274</td>\n",
              "      <td>-0.190321</td>\n",
              "      <td>-1.175575</td>\n",
              "      <td>0.647376</td>\n",
              "      <td>-0.221929</td>\n",
              "      <td>0.062723</td>\n",
              "      <td>0.061458</td>\n",
              "      <td>123.50</td>\n",
              "      <td>0</td>\n",
              "    </tr>\n",
              "    <tr>\n",
              "      <th>4</th>\n",
              "      <td>2.0</td>\n",
              "      <td>-1.158233</td>\n",
              "      <td>0.877737</td>\n",
              "      <td>1.548718</td>\n",
              "      <td>0.403034</td>\n",
              "      <td>-0.407193</td>\n",
              "      <td>0.095921</td>\n",
              "      <td>0.592941</td>\n",
              "      <td>-0.270533</td>\n",
              "      <td>0.817739</td>\n",
              "      <td>0.753074</td>\n",
              "      <td>-0.822843</td>\n",
              "      <td>0.538196</td>\n",
              "      <td>1.345852</td>\n",
              "      <td>-1.119670</td>\n",
              "      <td>0.175121</td>\n",
              "      <td>-0.451449</td>\n",
              "      <td>-0.237033</td>\n",
              "      <td>-0.038195</td>\n",
              "      <td>0.803487</td>\n",
              "      <td>0.408542</td>\n",
              "      <td>-0.009431</td>\n",
              "      <td>0.798278</td>\n",
              "      <td>-0.137458</td>\n",
              "      <td>0.141267</td>\n",
              "      <td>-0.206010</td>\n",
              "      <td>0.502292</td>\n",
              "      <td>0.219422</td>\n",
              "      <td>0.215153</td>\n",
              "      <td>69.99</td>\n",
              "      <td>0</td>\n",
              "    </tr>\n",
              "  </tbody>\n",
              "</table>\n",
              "</div>"
            ],
            "text/plain": [
              "   Time        V1        V2        V3  ...       V27       V28  Amount  Class\n",
              "0   0.0 -1.359807 -0.072781  2.536347  ...  0.133558 -0.021053  149.62      0\n",
              "1   0.0  1.191857  0.266151  0.166480  ... -0.008983  0.014724    2.69      0\n",
              "2   1.0 -1.358354 -1.340163  1.773209  ... -0.055353 -0.059752  378.66      0\n",
              "3   1.0 -0.966272 -0.185226  1.792993  ...  0.062723  0.061458  123.50      0\n",
              "4   2.0 -1.158233  0.877737  1.548718  ...  0.219422  0.215153   69.99      0\n",
              "\n",
              "[5 rows x 31 columns]"
            ]
          },
          "metadata": {
            "tags": []
          },
          "execution_count": 53
        }
      ]
    },
    {
      "cell_type": "code",
      "metadata": {
        "id": "vjqOl4lSv9WV"
      },
      "source": [
        "df.drop('Time', axis=1, inplace=True)"
      ],
      "execution_count": 6,
      "outputs": []
    },
    {
      "cell_type": "code",
      "metadata": {
        "colab": {
          "base_uri": "https://localhost:8080/"
        },
        "id": "hDbUf-6nv9To",
        "outputId": "aa2bb1dd-bc6e-4f25-ce55-fafbe54ac635"
      },
      "source": [
        "fraud_count = len(df[df.Class == 0])\n",
        "nonfraud_count = len(df[df.Class == 1])\n",
        "fraud_percentage = round(fraud_count/nonfraud_count)*100\n",
        "\n",
        "print('Cases')\n",
        "print('---------------------------')\n",
        "print('Total Fraud_count is:-', fraud_count)\n",
        "print('Total Non-Fraud_count is:-', nonfraud_count)"
      ],
      "execution_count": 7,
      "outputs": [
        {
          "output_type": "stream",
          "text": [
            "Cases\n",
            "---------------------------\n",
            "Total Fraud_count is:- 284315\n",
            "Total Non-Fraud_count is:- 492\n"
          ],
          "name": "stdout"
        }
      ]
    },
    {
      "cell_type": "code",
      "metadata": {
        "colab": {
          "base_uri": "https://localhost:8080/"
        },
        "id": "PYYK4TQ3v9Q0",
        "outputId": "6a8c67c4-a2c7-41b1-ddc5-29e7887a7da0"
      },
      "source": [
        "false = df[df['Class']==1]\n",
        "true = df[df['Class']==0]\n",
        "\n",
        "#false detection case\n",
        "\n",
        "print('False Detection Class')\n",
        "print(\"---------------------\")\n",
        "print(false.Amount.describe(), \"\\n\")\n",
        "\n",
        "#true detection case\n",
        "\n",
        "print('False Detection Class')\n",
        "print(\"---------------------\")\n",
        "print(true.Amount.describe(), \"\\n\")"
      ],
      "execution_count": 8,
      "outputs": [
        {
          "output_type": "stream",
          "text": [
            "False Detection Class\n",
            "---------------------\n",
            "count     492.000000\n",
            "mean      122.211321\n",
            "std       256.683288\n",
            "min         0.000000\n",
            "25%         1.000000\n",
            "50%         9.250000\n",
            "75%       105.890000\n",
            "max      2125.870000\n",
            "Name: Amount, dtype: float64 \n",
            "\n",
            "False Detection Class\n",
            "---------------------\n",
            "count    284315.000000\n",
            "mean         88.291022\n",
            "std         250.105092\n",
            "min           0.000000\n",
            "25%           5.650000\n",
            "50%          22.000000\n",
            "75%          77.050000\n",
            "max       25691.160000\n",
            "Name: Amount, dtype: float64 \n",
            "\n"
          ],
          "name": "stdout"
        }
      ]
    },
    {
      "cell_type": "code",
      "metadata": {
        "colab": {
          "base_uri": "https://localhost:8080/"
        },
        "id": "pU93uOrgv9OJ",
        "outputId": "dc87749a-9039-470d-88c4-309a0f39481f"
      },
      "source": [
        "#check columns\n",
        "\n",
        "print(\"Columns or Feature names :-\", df.columns)"
      ],
      "execution_count": 9,
      "outputs": [
        {
          "output_type": "stream",
          "text": [
            "Columns or Feature names :- Index(['V1', 'V2', 'V3', 'V4', 'V5', 'V6', 'V7', 'V8', 'V9', 'V10', 'V11',\n",
            "       'V12', 'V13', 'V14', 'V15', 'V16', 'V17', 'V18', 'V19', 'V20', 'V21',\n",
            "       'V22', 'V23', 'V24', 'V25', 'V26', 'V27', 'V28', 'Amount', 'Class'],\n",
            "      dtype='object')\n"
          ],
          "name": "stdout"
        }
      ]
    },
    {
      "cell_type": "code",
      "metadata": {
        "colab": {
          "base_uri": "https://localhost:8080/"
        },
        "id": "3x896cp8v9Ln",
        "outputId": "1c636308-840e-4369-8121-1c7ebf56ce26"
      },
      "source": [
        "#check unique values of target variable\n",
        "\n",
        "print(\"Unique values of target variable :-\", df['Class'].unique())"
      ],
      "execution_count": 10,
      "outputs": [
        {
          "output_type": "stream",
          "text": [
            "Unique values of target variable :- [0 1]\n"
          ],
          "name": "stdout"
        }
      ]
    },
    {
      "cell_type": "markdown",
      "metadata": {
        "id": "zoZwlmk7wT7d"
      },
      "source": [
        "The target variable Class has 0 and 1 values. Here\n",
        "\n",
        "0 for non-fraudulent transactions\n",
        "1 for fraudulent transactions"
      ]
    },
    {
      "cell_type": "code",
      "metadata": {
        "colab": {
          "base_uri": "https://localhost:8080/"
        },
        "id": "3vEVUFxIwTtL",
        "outputId": "5f2552e6-288b-498a-f61d-8facd5fe4a31"
      },
      "source": [
        "#check number of samples under target column\n",
        "\n",
        "print(\"Number of sample under each target value :- \\n\",df['Class'].value_counts())"
      ],
      "execution_count": 11,
      "outputs": [
        {
          "output_type": "stream",
          "text": [
            "Number of sample under each target value :- \n",
            " 0    284315\n",
            "1       492\n",
            "Name: Class, dtype: int64\n"
          ],
          "name": "stdout"
        }
      ]
    },
    {
      "cell_type": "code",
      "metadata": {
        "colab": {
          "base_uri": "https://localhost:8080/"
        },
        "id": "KyI5RCcqv9I6",
        "outputId": "fe8884c4-b9e2-4a9e-935c-e0571358f806"
      },
      "source": [
        "#Checking null values\n",
        "\n",
        "df.isnull().sum()"
      ],
      "execution_count": 12,
      "outputs": [
        {
          "output_type": "execute_result",
          "data": {
            "text/plain": [
              "V1        0\n",
              "V2        0\n",
              "V3        0\n",
              "V4        0\n",
              "V5        0\n",
              "V6        0\n",
              "V7        0\n",
              "V8        0\n",
              "V9        0\n",
              "V10       0\n",
              "V11       0\n",
              "V12       0\n",
              "V13       0\n",
              "V14       0\n",
              "V15       0\n",
              "V16       0\n",
              "V17       0\n",
              "V18       0\n",
              "V19       0\n",
              "V20       0\n",
              "V21       0\n",
              "V22       0\n",
              "V23       0\n",
              "V24       0\n",
              "V25       0\n",
              "V26       0\n",
              "V27       0\n",
              "V28       0\n",
              "Amount    0\n",
              "Class     0\n",
              "dtype: int64"
            ]
          },
          "metadata": {
            "tags": []
          },
          "execution_count": 12
        }
      ]
    },
    {
      "cell_type": "markdown",
      "metadata": {
        "id": "V04Y1yzUwZFA"
      },
      "source": [
        "Data Transformation"
      ]
    },
    {
      "cell_type": "code",
      "metadata": {
        "id": "S6cxLAFhv9GU"
      },
      "source": [
        "sc = StandardScaler()\n",
        "amount = df['Amount'].values\n",
        "\n",
        "df['Amount'] = sc.fit_transform(amount.reshape(-1,1))"
      ],
      "execution_count": 13,
      "outputs": []
    },
    {
      "cell_type": "code",
      "metadata": {
        "colab": {
          "base_uri": "https://localhost:8080/"
        },
        "id": "IulLFVn5v9Cz",
        "outputId": "26ab1528-707c-43a8-d8f7-0c3ad82e45b1"
      },
      "source": [
        "print(df['Amount'].head())"
      ],
      "execution_count": 14,
      "outputs": [
        {
          "output_type": "stream",
          "text": [
            "0    0.244964\n",
            "1   -0.342475\n",
            "2    1.160686\n",
            "3    0.140534\n",
            "4   -0.073403\n",
            "Name: Amount, dtype: float64\n"
          ],
          "name": "stdout"
        }
      ]
    },
    {
      "cell_type": "markdown",
      "metadata": {
        "id": "QeiuNiGjwedF"
      },
      "source": [
        "Splitting Dataset"
      ]
    },
    {
      "cell_type": "code",
      "metadata": {
        "id": "_Q6hLPFnwd4h"
      },
      "source": [
        "X = df.drop('Class', axis=1).values\n",
        "y = df['Class'].values"
      ],
      "execution_count": 15,
      "outputs": []
    },
    {
      "cell_type": "code",
      "metadata": {
        "id": "JsqDf7XHwR-M"
      },
      "source": [
        "X_train, X_test, y_train, y_test = train_test_split(X,y, test_size=0.20, random_state=0)"
      ],
      "execution_count": 16,
      "outputs": []
    },
    {
      "cell_type": "code",
      "metadata": {
        "colab": {
          "base_uri": "https://localhost:8080/"
        },
        "id": "fjF-Bi2xwR7a",
        "outputId": "fd996ff6-6c8c-4519-8058-7f517e5f79c5"
      },
      "source": [
        "print('X_train Samples :-', X_train[:1])"
      ],
      "execution_count": 17,
      "outputs": [
        {
          "output_type": "stream",
          "text": [
            "X_train Samples :- [[-1.11504743  1.03558276  0.80071244 -1.06039825  0.03262117  0.85342216\n",
            "  -0.61424348 -3.23116112  1.53994798 -0.81690879 -1.30559201  0.1081772\n",
            "  -0.85960958 -0.07193421  0.90665563 -1.72092961  0.79785322 -0.0067594\n",
            "   1.95677806 -0.64489556  3.02038533 -0.53961798  0.03315649 -0.77494577\n",
            "   0.10586781 -0.43085348  0.22973694 -0.0705913  -0.30145418]]\n"
          ],
          "name": "stdout"
        }
      ]
    },
    {
      "cell_type": "code",
      "metadata": {
        "colab": {
          "base_uri": "https://localhost:8080/"
        },
        "id": "5PrVk1yewR4q",
        "outputId": "4a63a5a5-b11e-4da1-c7cb-d6e2050d74f6"
      },
      "source": [
        "print('X_test Samples :-', X_train[0:1])"
      ],
      "execution_count": 18,
      "outputs": [
        {
          "output_type": "stream",
          "text": [
            "X_test Samples :- [[-1.11504743  1.03558276  0.80071244 -1.06039825  0.03262117  0.85342216\n",
            "  -0.61424348 -3.23116112  1.53994798 -0.81690879 -1.30559201  0.1081772\n",
            "  -0.85960958 -0.07193421  0.90665563 -1.72092961  0.79785322 -0.0067594\n",
            "   1.95677806 -0.64489556  3.02038533 -0.53961798  0.03315649 -0.77494577\n",
            "   0.10586781 -0.43085348  0.22973694 -0.0705913  -0.30145418]]\n"
          ],
          "name": "stdout"
        }
      ]
    },
    {
      "cell_type": "code",
      "metadata": {
        "colab": {
          "base_uri": "https://localhost:8080/"
        },
        "id": "ks0cWZUcwR1r",
        "outputId": "6599813f-49f2-42c9-f5e4-a6a0b0a1c9a9"
      },
      "source": [
        "print('y_train Samples :-', y_train[0:20])"
      ],
      "execution_count": 19,
      "outputs": [
        {
          "output_type": "stream",
          "text": [
            "y_train Samples :- [0 0 0 0 0 0 0 0 0 0 0 0 0 0 0 0 0 0 0 0]\n"
          ],
          "name": "stdout"
        }
      ]
    },
    {
      "cell_type": "code",
      "metadata": {
        "colab": {
          "base_uri": "https://localhost:8080/"
        },
        "id": "mF2XpYTQv8ZF",
        "outputId": "68dbb5d4-86b6-42a5-f5e1-942b5b7ec2f5"
      },
      "source": [
        "print('y_test Samples :-', y_test[0:20])"
      ],
      "execution_count": 20,
      "outputs": [
        {
          "output_type": "stream",
          "text": [
            "y_test Samples :- [0 0 0 0 0 0 0 0 0 0 0 0 0 0 0 0 0 0 0 0]\n"
          ],
          "name": "stdout"
        }
      ]
    },
    {
      "cell_type": "code",
      "metadata": {
        "colab": {
          "base_uri": "https://localhost:8080/"
        },
        "id": "jtx2qF5Mwqc_",
        "outputId": "12e1ecf4-5338-4c35-80e5-b9c47d8c90cf"
      },
      "source": [
        "print('Shape of X_Train dataset')\n",
        "print('----------------------')\n",
        "print(X_train.shape)\n",
        "\n",
        "print('Shape of y_Train dataset')\n",
        "print('----------------------')\n",
        "print(y_train.shape)\n",
        "\n",
        "\n",
        "print('Shape of X_Test dataset')\n",
        "print('----------------------')\n",
        "print(X_test.shape)\n",
        "\n",
        "print('Shape of y_Test dataset')\n",
        "print('----------------------')\n",
        "print(y_test.shape)"
      ],
      "execution_count": 21,
      "outputs": [
        {
          "output_type": "stream",
          "text": [
            "Shape of X_Train dataset\n",
            "----------------------\n",
            "(227845, 29)\n",
            "Shape of y_Train dataset\n",
            "----------------------\n",
            "(227845,)\n",
            "Shape of X_Test dataset\n",
            "----------------------\n",
            "(56962, 29)\n",
            "Shape of y_Test dataset\n",
            "----------------------\n",
            "(56962,)\n"
          ],
          "name": "stdout"
        }
      ]
    },
    {
      "cell_type": "markdown",
      "metadata": {
        "id": "xdNzieJ_wt-Z"
      },
      "source": [
        "Modeling"
      ]
    },
    {
      "cell_type": "markdown",
      "metadata": {
        "id": "j3V71l_cwv2S"
      },
      "source": [
        "Decision Tree"
      ]
    },
    {
      "cell_type": "code",
      "metadata": {
        "id": "9TRB879mwqaf"
      },
      "source": [
        "tree_model = DecisionTreeClassifier(max_depth=5, criterion='entropy')\n",
        "tree_model.fit(X_train, y_train)\n",
        "tree_pred = tree_model.predict(X_test)"
      ],
      "execution_count": 22,
      "outputs": []
    },
    {
      "cell_type": "code",
      "metadata": {
        "colab": {
          "base_uri": "https://localhost:8080/"
        },
        "id": "F6v4XfgZwqXs",
        "outputId": "c23ed4f2-afed-4135-bbea-700a684a929d"
      },
      "source": [
        "print('-----------Accuracy Score-----------')\n",
        "print('Accuracy score of the decision tree', (accuracy_score(y_test, tree_pred)))"
      ],
      "execution_count": 23,
      "outputs": [
        {
          "output_type": "stream",
          "text": [
            "-----------Accuracy Score-----------\n",
            "Accuracy score of the decision tree 0.999385555282469\n"
          ],
          "name": "stdout"
        }
      ]
    },
    {
      "cell_type": "code",
      "metadata": {
        "colab": {
          "base_uri": "https://localhost:8080/"
        },
        "id": "YplEupGowqVI",
        "outputId": "804d4f69-d41e-4953-a701-0d574c935da0"
      },
      "source": [
        "print('-----------F1 Score-----------')\n",
        "print('F1 score of the decision tree', (f1_score(y_test, tree_pred)))"
      ],
      "execution_count": 24,
      "outputs": [
        {
          "output_type": "stream",
          "text": [
            "-----------F1 Score-----------\n",
            "F1 score of the decision tree 0.8108108108108107\n"
          ],
          "name": "stdout"
        }
      ]
    },
    {
      "cell_type": "code",
      "metadata": {
        "colab": {
          "base_uri": "https://localhost:8080/"
        },
        "id": "B-wkKoejwnLh",
        "outputId": "e6325efa-000b-45e1-fab7-b1c13277a540"
      },
      "source": [
        "print('-----------Confusion Matrix-----------')\n",
        "print('Confusion Matrix of the decision tree :- \\n', (confusion_matrix(y_test, tree_pred)))"
      ],
      "execution_count": 25,
      "outputs": [
        {
          "output_type": "stream",
          "text": [
            "-----------Confusion Matrix-----------\n",
            "Confusion Matrix of the decision tree :- \n",
            " [[56852     9]\n",
            " [   26    75]]\n"
          ],
          "name": "stdout"
        }
      ]
    },
    {
      "cell_type": "code",
      "metadata": {
        "colab": {
          "base_uri": "https://localhost:8080/",
          "height": 265
        },
        "id": "2ynUHldew2if",
        "outputId": "7a677f95-5582-4a4d-d767-203a604a78bf"
      },
      "source": [
        "cm = confusion_matrix(y_test, tree_pred)\n",
        "fig, ax = plt.subplots(figsize=(6,4))\n",
        "sns.heatmap(cm, annot=True)\n",
        "plt.show()"
      ],
      "execution_count": 26,
      "outputs": [
        {
          "output_type": "display_data",
          "data": {
            "image/png": "[encoded data removed]",
            "text/plain": [
              "<Figure size 432x288 with 2 Axes>"
            ]
          },
          "metadata": {
            "tags": [],
            "needs_background": "light"
          }
        }
      ]
    },
    {
      "cell_type": "code",
      "metadata": {
        "colab": {
          "base_uri": "https://localhost:8080/"
        },
        "id": "jPoqLt3Nw2gK",
        "outputId": "ceb8c7b9-08ea-42d3-960b-ab0d1b0f721f"
      },
      "source": [
        "print('-----------Classification Report-----------')\n",
        "print('Confusion Matrix of the decision tree :- \\n', (classification_report(y_test, tree_pred)))"
      ],
      "execution_count": 27,
      "outputs": [
        {
          "output_type": "stream",
          "text": [
            "-----------Classification Report-----------\n",
            "Confusion Matrix of the decision tree :- \n",
            "               precision    recall  f1-score   support\n",
            "\n",
            "           0       1.00      1.00      1.00     56861\n",
            "           1       0.89      0.74      0.81       101\n",
            "\n",
            "    accuracy                           1.00     56962\n",
            "   macro avg       0.95      0.87      0.91     56962\n",
            "weighted avg       1.00      1.00      1.00     56962\n",
            "\n"
          ],
          "name": "stdout"
        }
      ]
    },
    {
      "cell_type": "markdown",
      "metadata": {
        "id": "Kf7Yc8oPw7ct"
      },
      "source": [
        "# KNN"
      ]
    },
    {
      "cell_type": "code",
      "metadata": {
        "id": "zOb3aMw0w7UJ"
      },
      "source": [
        "knn = KNeighborsClassifier(n_neighbors=5)\n",
        "knn.fit(X_train, y_train)\n",
        "knn_pred = knn.predict(X_test)"
      ],
      "execution_count": 28,
      "outputs": []
    },
    {
      "cell_type": "code",
      "metadata": {
        "colab": {
          "base_uri": "https://localhost:8080/"
        },
        "id": "MqFr7W-Ew7Ra",
        "outputId": "01b8315c-fc6b-4ecf-e8f4-64e33c774eb4"
      },
      "source": [
        "print('-----------Accuracy Score-----------')\n",
        "print('Accuracy score of the KNN', (accuracy_score(y_test, knn_pred)))"
      ],
      "execution_count": 29,
      "outputs": [
        {
          "output_type": "stream",
          "text": [
            "-----------Accuracy Score-----------\n",
            "Accuracy score of the KNN 0.9995259997893332\n"
          ],
          "name": "stdout"
        }
      ]
    },
    {
      "cell_type": "code",
      "metadata": {
        "colab": {
          "base_uri": "https://localhost:8080/"
        },
        "id": "KzyPvqGuw7Op",
        "outputId": "eded6002-ca61-4fb4-8e1f-44140c6c035b"
      },
      "source": [
        "print('-----------F1 Score-----------')\n",
        "print('F1 score of the KNN', (f1_score(y_test, knn_pred)))"
      ],
      "execution_count": 30,
      "outputs": [
        {
          "output_type": "stream",
          "text": [
            "-----------F1 Score-----------\n",
            "F1 score of the KNN 0.8571428571428572\n"
          ],
          "name": "stdout"
        }
      ]
    },
    {
      "cell_type": "code",
      "metadata": {
        "colab": {
          "base_uri": "https://localhost:8080/"
        },
        "id": "bxRiCsA7w2cv",
        "outputId": "3f07387d-9e9f-43c2-d4d4-f09dd3d7e36f"
      },
      "source": [
        "print('-----------Confusion Matrix-----------')\n",
        "print('Confusion Matrix of the KNN :- \\n', (confusion_matrix(y_test, knn_pred)))"
      ],
      "execution_count": 31,
      "outputs": [
        {
          "output_type": "stream",
          "text": [
            "-----------Confusion Matrix-----------\n",
            "Confusion Matrix of the KNN :- \n",
            " [[56854     7]\n",
            " [   20    81]]\n"
          ],
          "name": "stdout"
        }
      ]
    },
    {
      "cell_type": "code",
      "metadata": {
        "colab": {
          "base_uri": "https://localhost:8080/",
          "height": 265
        },
        "id": "1_lXsFwYw2XN",
        "outputId": "2f863c0f-be2e-4364-9e7a-cfc9a92d7fcc"
      },
      "source": [
        "cm = confusion_matrix(y_test, knn_pred)\n",
        "fig, ax = plt.subplots(figsize=(6,4))\n",
        "sns.heatmap(cm, annot=True)\n",
        "plt.show()"
      ],
      "execution_count": 32,
      "outputs": [
        {
          "output_type": "display_data",
          "data": {
            "image/png": "[encoded data removed]",
            "text/plain": [
              "<Figure size 432x288 with 2 Axes>"
            ]
          },
          "metadata": {
            "tags": [],
            "needs_background": "light"
          }
        }
      ]
    },
    {
      "cell_type": "code",
      "metadata": {
        "colab": {
          "base_uri": "https://localhost:8080/"
        },
        "id": "pM9UDJ0ZxD0M",
        "outputId": "d725b1ef-b6b4-4026-93f2-4d75b38a19b8"
      },
      "source": [
        "print('-----------Classification Report-----------')\n",
        "print('Confusion Matrix of the KNN :- \\n', (classification_report(y_test, knn_pred)))"
      ],
      "execution_count": 33,
      "outputs": [
        {
          "output_type": "stream",
          "text": [
            "-----------Classification Report-----------\n",
            "Confusion Matrix of the KNN :- \n",
            "               precision    recall  f1-score   support\n",
            "\n",
            "           0       1.00      1.00      1.00     56861\n",
            "           1       0.92      0.80      0.86       101\n",
            "\n",
            "    accuracy                           1.00     56962\n",
            "   macro avg       0.96      0.90      0.93     56962\n",
            "weighted avg       1.00      1.00      1.00     56962\n",
            "\n"
          ],
          "name": "stdout"
        }
      ]
    },
    {
      "cell_type": "markdown",
      "metadata": {
        "id": "kbEZrrbvxH_n"
      },
      "source": [
        "Log Regression"
      ]
    },
    {
      "cell_type": "code",
      "metadata": {
        "id": "BVkHa1nOxDxZ"
      },
      "source": [
        "lr = LogisticRegression()\n",
        "lr.fit(X_train, y_train)\n",
        "lr_pred = lr.predict(X_test)"
      ],
      "execution_count": 34,
      "outputs": []
    },
    {
      "cell_type": "code",
      "metadata": {
        "colab": {
          "base_uri": "https://localhost:8080/"
        },
        "id": "DfbrsV72xDua",
        "outputId": "5ed46ce8-9870-410c-f950-10e0ad8933aa"
      },
      "source": [
        "print('-----------Accuracy Score-----------')\n",
        "print('Accuracy score of the Logistic Regression', (accuracy_score(y_test, lr_pred)))"
      ],
      "execution_count": 35,
      "outputs": [
        {
          "output_type": "stream",
          "text": [
            "-----------Accuracy Score-----------\n",
            "Accuracy score of the Logistic Regression 0.9991924440855307\n"
          ],
          "name": "stdout"
        }
      ]
    },
    {
      "cell_type": "code",
      "metadata": {
        "colab": {
          "base_uri": "https://localhost:8080/"
        },
        "id": "ES-f7GvwxN3W",
        "outputId": "3dd69e87-1741-4469-8524-3de6cfe609ed"
      },
      "source": [
        "print('-----------F1 Score-----------')\n",
        "print('F1 score of the logistic regression', (f1_score(y_test, lr_pred)))"
      ],
      "execution_count": 36,
      "outputs": [
        {
          "output_type": "stream",
          "text": [
            "-----------F1 Score-----------\n",
            "F1 score of the logistic regression 0.7356321839080459\n"
          ],
          "name": "stdout"
        }
      ]
    },
    {
      "cell_type": "code",
      "metadata": {
        "colab": {
          "base_uri": "https://localhost:8080/"
        },
        "id": "_5cuECpWxNz-",
        "outputId": "85672541-9976-43ca-9637-80c442a6b12a"
      },
      "source": [
        "print('-----------Confusion Matrix-----------')\n",
        "print('Confusion Matrix of the logistic regression :- \\n', (confusion_matrix(y_test, lr_pred)))"
      ],
      "execution_count": 37,
      "outputs": [
        {
          "output_type": "stream",
          "text": [
            "-----------Confusion Matrix-----------\n",
            "Confusion Matrix of the logistic regression :- \n",
            " [[56852     9]\n",
            " [   37    64]]\n"
          ],
          "name": "stdout"
        }
      ]
    },
    {
      "cell_type": "code",
      "metadata": {
        "colab": {
          "base_uri": "https://localhost:8080/",
          "height": 265
        },
        "id": "SL9af5hOxNvt",
        "outputId": "d26d36ab-f398-4e11-ecdb-a5b0bb4a3dea"
      },
      "source": [
        "cm = confusion_matrix(y_test, lr_pred)\n",
        "fig, ax = plt.subplots(figsize=(6,4))\n",
        "sns.heatmap(cm, annot=True)\n",
        "plt.show()"
      ],
      "execution_count": 38,
      "outputs": [
        {
          "output_type": "display_data",
          "data": {
            "image/png": "[encoded data removed]",
            "text/plain": [
              "<Figure size 432x288 with 2 Axes>"
            ]
          },
          "metadata": {
            "tags": [],
            "needs_background": "light"
          }
        }
      ]
    },
    {
      "cell_type": "code",
      "metadata": {
        "colab": {
          "base_uri": "https://localhost:8080/"
        },
        "id": "FT7atQxdxNr6",
        "outputId": "b94a9e1f-198c-43eb-c18a-ec934218ac03"
      },
      "source": [
        "print('-----------Classification Report-----------')\n",
        "print('Confusion Matrix of the logistic regression :- \\n', (classification_report(y_test, lr_pred)))"
      ],
      "execution_count": 39,
      "outputs": [
        {
          "output_type": "stream",
          "text": [
            "-----------Classification Report-----------\n",
            "Confusion Matrix of the logistic regression :- \n",
            "               precision    recall  f1-score   support\n",
            "\n",
            "           0       1.00      1.00      1.00     56861\n",
            "           1       0.88      0.63      0.74       101\n",
            "\n",
            "    accuracy                           1.00     56962\n",
            "   macro avg       0.94      0.82      0.87     56962\n",
            "weighted avg       1.00      1.00      1.00     56962\n",
            "\n"
          ],
          "name": "stdout"
        }
      ]
    },
    {
      "cell_type": "markdown",
      "metadata": {
        "id": "7iUHZ2PhExXl"
      },
      "source": [
        "Random Forest"
      ]
    },
    {
      "cell_type": "code",
      "metadata": {
        "id": "KtrN-9FCxNiR"
      },
      "source": [
        "rf = RandomForestClassifier()\n",
        "rf.fit(X_train, y_train)\n",
        "rf_pred = rf.predict(X_test)"
      ],
      "execution_count": 40,
      "outputs": []
    },
    {
      "cell_type": "code",
      "metadata": {
        "colab": {
          "base_uri": "https://localhost:8080/"
        },
        "id": "djJS1M7iwnIx",
        "outputId": "81de29f3-8b57-4e82-b60e-14912599b378"
      },
      "source": [
        "print('-----------Accuracy Score-----------')\n",
        "print('Accuracy score of the Random Forest', (accuracy_score(y_test, rf_pred)))"
      ],
      "execution_count": 41,
      "outputs": [
        {
          "output_type": "stream",
          "text": [
            "-----------Accuracy Score-----------\n",
            "Accuracy score of the Random Forest 0.9994908886626171\n"
          ],
          "name": "stdout"
        }
      ]
    },
    {
      "cell_type": "code",
      "metadata": {
        "colab": {
          "base_uri": "https://localhost:8080/"
        },
        "id": "VTUmE3hWxV_c",
        "outputId": "8b47d23b-d1c3-4d1b-c5d9-ef6216a994f9"
      },
      "source": [
        "print('-----------F1 Score-----------')\n",
        "print('F1 score of the random forest', (f1_score(y_test, rf_pred)))"
      ],
      "execution_count": 42,
      "outputs": [
        {
          "output_type": "stream",
          "text": [
            "-----------F1 Score-----------\n",
            "F1 score of the random forest 0.8432432432432432\n"
          ],
          "name": "stdout"
        }
      ]
    },
    {
      "cell_type": "code",
      "metadata": {
        "colab": {
          "base_uri": "https://localhost:8080/"
        },
        "id": "ZEsT2g7DxV87",
        "outputId": "b164ca5d-5f33-4096-d818-031a6dbe228b"
      },
      "source": [
        "print('-----------Confusion Matrix-----------')\n",
        "print('Confusion Matrix of the random forest :- \\n', (confusion_matrix(y_test, rf_pred)))"
      ],
      "execution_count": 43,
      "outputs": [
        {
          "output_type": "stream",
          "text": [
            "-----------Confusion Matrix-----------\n",
            "Confusion Matrix of the random forest :- \n",
            " [[56855     6]\n",
            " [   23    78]]\n"
          ],
          "name": "stdout"
        }
      ]
    },
    {
      "cell_type": "code",
      "metadata": {
        "colab": {
          "base_uri": "https://localhost:8080/",
          "height": 265
        },
        "id": "1IN7Xts3FE9Q",
        "outputId": "d6558f48-00f9-4d67-fe36-bad913c4ffee"
      },
      "source": [
        "cm = confusion_matrix(y_test, rf_pred)\n",
        "fig, ax = plt.subplots(figsize=(6,4))\n",
        "sns.heatmap(cm, annot=True)\n",
        "plt.show()"
      ],
      "execution_count": 55,
      "outputs": [
        {
          "output_type": "display_data",
          "data": {
            "image/png": "[encoded data removed]",
            "text/plain": [
              "<Figure size 432x288 with 2 Axes>"
            ]
          },
          "metadata": {
            "tags": [],
            "needs_background": "light"
          }
        }
      ]
    },
    {
      "cell_type": "code",
      "metadata": {
        "colab": {
          "base_uri": "https://localhost:8080/"
        },
        "id": "TIG64GnpxV5x",
        "outputId": "717c4c63-ad29-4c67-9995-e4bb6384c572"
      },
      "source": [
        "print('-----------Classification Report-----------')\n",
        "print('Confusion Matrix of the random forest :- \\n', (classification_report(y_test, rf_pred)))"
      ],
      "execution_count": 44,
      "outputs": [
        {
          "output_type": "stream",
          "text": [
            "-----------Classification Report-----------\n",
            "Confusion Matrix of the random forest :- \n",
            "               precision    recall  f1-score   support\n",
            "\n",
            "           0       1.00      1.00      1.00     56861\n",
            "           1       0.93      0.77      0.84       101\n",
            "\n",
            "    accuracy                           1.00     56962\n",
            "   macro avg       0.96      0.89      0.92     56962\n",
            "weighted avg       1.00      1.00      1.00     56962\n",
            "\n"
          ],
          "name": "stdout"
        }
      ]
    },
    {
      "cell_type": "markdown",
      "metadata": {
        "id": "prVFb1Dmxa8i"
      },
      "source": [
        "ROC - AUC curve"
      ]
    },
    {
      "cell_type": "code",
      "metadata": {
        "id": "fTNJIOD6xavi"
      },
      "source": [
        "from sklearn.metrics import roc_auc_score, roc_curve"
      ],
      "execution_count": 45,
      "outputs": []
    },
    {
      "cell_type": "markdown",
      "metadata": {
        "id": "GKWaH5YBxgwB"
      },
      "source": [
        "Decision Tree"
      ]
    },
    {
      "cell_type": "code",
      "metadata": {
        "id": "20ecK90_xasC"
      },
      "source": [
        "score = roc_auc_score(y_test, tree_pred)"
      ],
      "execution_count": 46,
      "outputs": []
    },
    {
      "cell_type": "code",
      "metadata": {
        "colab": {
          "base_uri": "https://localhost:8080/"
        },
        "id": "ghR6eNhvxk_t",
        "outputId": "78cee491-d04b-4095-8c08-ab707c17311a"
      },
      "source": [
        "print('ROC-AUC Score is:-', score)"
      ],
      "execution_count": 47,
      "outputs": [
        {
          "output_type": "stream",
          "text": [
            "ROC-AUC Score is:- 0.8712079883530465\n"
          ],
          "name": "stdout"
        }
      ]
    },
    {
      "cell_type": "code",
      "metadata": {
        "id": "L5T3FP8vxk8k"
      },
      "source": [
        "fpr, tpr, thresholds = roc_curve(y_test, tree_pred)"
      ],
      "execution_count": 48,
      "outputs": []
    },
    {
      "cell_type": "code",
      "metadata": {
        "colab": {
          "base_uri": "https://localhost:8080/",
          "height": 265
        },
        "id": "GcJ1sNClxnrA",
        "outputId": "19ff105b-8e08-4495-d25f-ff4b0b855f3a"
      },
      "source": [
        "plt.plot(fpr, tpr, label='ROC Curve (area=%0.2f)' % score)\n",
        "plt.plot([0,1], [0,1], 'k--')\n",
        "plt.legend()\n",
        "plt.show()"
      ],
      "execution_count": 49,
      "outputs": [
        {
          "output_type": "display_data",
          "data": {
            "image/png": "[encoded data removed]",
            "text/plain": [
              "<Figure size 432x288 with 1 Axes>"
            ]
          },
          "metadata": {
            "tags": [],
            "needs_background": "light"
          }
        }
      ]
    },
    {
      "cell_type": "markdown",
      "metadata": {
        "id": "owAnq-VOxqIQ"
      },
      "source": [
        "Random Forest"
      ]
    },
    {
      "cell_type": "code",
      "metadata": {
        "id": "nUTLGp0GxpyQ"
      },
      "source": [
        "rf_score = roc_auc_score(y_test, rf_pred)"
      ],
      "execution_count": 56,
      "outputs": []
    },
    {
      "cell_type": "code",
      "metadata": {
        "colab": {
          "base_uri": "https://localhost:8080/"
        },
        "id": "vmF5kwzmxpvw",
        "outputId": "d7613995-3796-47d9-d7d4-f7ff3e6c7522"
      },
      "source": [
        "print('ROC-AUC Score is:-', rf_score)"
      ],
      "execution_count": 59,
      "outputs": [
        {
          "output_type": "stream",
          "text": [
            "ROC-AUC Score is:- 0.8860858536215029\n"
          ],
          "name": "stdout"
        }
      ]
    },
    {
      "cell_type": "code",
      "metadata": {
        "id": "VERMrf1Gxnn8"
      },
      "source": [
        "fpr, tpr, thresholds = roc_curve(y_test, rf_pred)"
      ],
      "execution_count": 60,
      "outputs": []
    },
    {
      "cell_type": "code",
      "metadata": {
        "colab": {
          "base_uri": "https://localhost:8080/",
          "height": 265
        },
        "id": "NReWAJlNxk53",
        "outputId": "ac96b01f-8c35-4666-f84e-0483db85c5fa"
      },
      "source": [
        "plt.plot(fpr, tpr, label='ROC Curve (area=%0.2f)' % rf_score)\n",
        "plt.plot([0,1], [0,1], 'k--')\n",
        "plt.legend()\n",
        "plt.show()"
      ],
      "execution_count": 61,
      "outputs": [
        {
          "output_type": "display_data",
          "data": {
            "image/png": "[encoded data removed]",
            "text/plain": [
              "<Figure size 432x288 with 1 Axes>"
            ]
          },
          "metadata": {
            "tags": [],
            "needs_background": "light"
          }
        }
      ]
    },
    {
      "cell_type": "code",
      "metadata": {
        "id": "XT-jYoZ1xapx"
      },
      "source": [
        ""
      ],
      "execution_count": null,
      "outputs": []
    },
    {
      "cell_type": "code",
      "metadata": {
        "id": "OF3NX_pcxV3J"
      },
      "source": [
        ""
      ],
      "execution_count": null,
      "outputs": []
    },
    {
      "cell_type": "code",
      "metadata": {
        "id": "CEo-xSKkwnGB"
      },
      "source": [
        ""
      ],
      "execution_count": null,
      "outputs": []
    }
  ]
}